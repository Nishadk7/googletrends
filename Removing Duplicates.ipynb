{
 "cells": [
  {
   "cell_type": "code",
   "execution_count": 33,
   "metadata": {},
   "outputs": [
    {
     "name": "stdout",
     "output_type": "stream",
     "text": [
      "Data Processed!\n"
     ]
    }
   ],
   "source": [
    "import pandas as pd \n",
    "import csv  \n",
    "# making data frame from csv file \n",
    "data = pd.read_csv(\"NewsTrends_NG_RawData.csv\")\n",
    "\n",
    "# dropping ALL duplicte values \n",
    "data.drop_duplicates(subset =\"TITLE\", keep = False, inplace = True) \n",
    "\n",
    "# saving data\n",
    "data.to_csv(r'C:\\Users\\win10\\Desktop\\Google Trends Data Scraping\\Cleaned Data\\Processed\\NewsTrends_NG_Processed.csv', index=False)\n",
    "print(\"Data Processed!\")"
   ]
  },
  {
   "cell_type": "code",
   "execution_count": null,
   "metadata": {},
   "outputs": [],
   "source": []
  },
  {
   "cell_type": "code",
   "execution_count": null,
   "metadata": {},
   "outputs": [],
   "source": []
  }
 ],
 "metadata": {
  "kernelspec": {
   "display_name": "Python 3",
   "language": "python",
   "name": "python3"
  },
  "language_info": {
   "codemirror_mode": {
    "name": "ipython",
    "version": 3
   },
   "file_extension": ".py",
   "mimetype": "text/x-python",
   "name": "python",
   "nbconvert_exporter": "python",
   "pygments_lexer": "ipython3",
   "version": "3.8.3"
  }
 },
 "nbformat": 4,
 "nbformat_minor": 4
}
