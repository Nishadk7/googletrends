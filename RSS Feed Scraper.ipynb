{
 "cells": [
  {
   "cell_type": "code",
   "execution_count": 2,
   "metadata": {},
   "outputs": [
    {
     "name": "stdout",
     "output_type": "stream",
     "text": [
      "Scraping...\n",
      "Finished!\n"
     ]
    }
   ],
   "source": [
    "import requests # pulling data\n",
    "from bs4 import BeautifulSoup # xml parsing\n",
    "import csv # exporting data to csv\n",
    "\n",
    "# save function\n",
    "def save_function(trends):\n",
    "    header_names = ['S_NO', 'DATE', 'KEYWORD', 'COUNT', 'TITLE', 'LINK']\n",
    "    with open('NewsTrends_AU.csv', 'a', encoding='utf-8', newline='') as csvfile: #IN US NG GB AU csv files for five countires\n",
    "        writer = csv.DictWriter(csvfile, fieldnames = header_names) \n",
    "        writer.writeheader() \n",
    "        writer.writerows(trends)\n",
    "        \n",
    "\n",
    "# scraping function\n",
    "def google_trends():\n",
    "    trends = []\n",
    "\n",
    "    try:\n",
    "        # execute my request, parse the data using XML\n",
    "        # parser in BS4\n",
    "        r = requests.get('https://trends.google.com/trends/trendingsearches/daily/rss?geo=IN')   # IN US NG GB AU (five country data)\n",
    "        soup = BeautifulSoup(r.content, features='xml')\n",
    "\n",
    "        # select only the required \"items\" from the data\n",
    "        articles = soup.findAll('item')\n",
    "\n",
    "        # for each \"item\", parse respectives into a list\n",
    "        i = 0\n",
    "        for a in articles:\n",
    "            date = a.find('pubDate').text\n",
    "            keyword = a.find('title').text\n",
    "            count = a.find('ht:approx_traffic').text\n",
    "            link = a.find('ht:news_item_url').text\n",
    "            title = a.find('ht:news_item_title').text\n",
    "            i+=1\n",
    "            \n",
    "            # create a \"trend\" object with the data\n",
    "            # from each \"item\"\n",
    "            trend = {\n",
    "                'S_NO': i,\n",
    "                'DATE': date,\n",
    "                'KEYWORD': keyword,\n",
    "                'COUNT': count,\n",
    "                'TITLE': title,\n",
    "                'LINK': link\n",
    "                }\n",
    "            \n",
    "            # append my \"trends\" with each \"trend\" object\n",
    "            trends.append(trend)\n",
    "                    \n",
    "        # after the loop, dump objects into a .csv file\n",
    "        return save_function(trends)\n",
    "    except Exception as e:\n",
    "        print('Scraping failed. See exception:')\n",
    "        print(e)\n",
    "\n",
    "print('Scraping...')\n",
    "google_trends()\n",
    "print('Finished!')"
   ]
  },
  {
   "cell_type": "code",
   "execution_count": null,
   "metadata": {},
   "outputs": [],
   "source": []
  }
 ],
 "metadata": {
  "kernelspec": {
   "display_name": "Python 3",
   "language": "python",
   "name": "python3"
  },
  "language_info": {
   "codemirror_mode": {
    "name": "ipython",
    "version": 3
   },
   "file_extension": ".py",
   "mimetype": "text/x-python",
   "name": "python",
   "nbconvert_exporter": "python",
   "pygments_lexer": "ipython3",
   "version": "3.8.3"
  }
 },
 "nbformat": 4,
 "nbformat_minor": 4
}
